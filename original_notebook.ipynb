{
 "cells": [
  {
   "cell_type": "markdown",
   "metadata": {},
   "source": [
    "# Predicting User Preferences in Python using Alternating Least Squares\n",
    "\n",
    "In a previous [tutorial](http://online.cambridgecoding.com/notebooks/eWReNYcAfB/implementing-your-own-recommender-systems-in-python-2) you've learned about a powerful technique for automating item recommendations based on user's previous behaviour called **Collaborative Filtering** (CF). You implemented both the memory-based and the model-based method. For the memory-based method you used cosine similarity to calculate how similar users and/or items are. For the model-based method you utilised the fact that a matrix can be decomposed into a product of matrices, much like an integer can be factorised as a product of two integers (e.g., $10 = 2 \\times 5$):\n",
    "\n",
    "<img class=\"aligncenter size-thumbnail img-responsive\" src=\"https://s32.postimg.org/721lra91h/matrix.png\" style=\"max-width:100%; width: 50%\" alt=\"UV Decomposition\"/>\n",
    "\n",
    "In this tutorial you will learn in more detail how to solve the matrix factorisation problem shown in the figure above. The so-called $UV$-decomposition aims to approximately represent the rating matrix as a product of two matrices (usually called $U$ and $V$, hence the name). The challenge is to find the two underlying matrices, based on the few ratings you observed in the rating matrix. In the last [tutorial](http://online.cambridgecoding.com/notebooks/mhaller/implementing-your-own-recommender-systems-in-python-using-stochastic-gradient-descent-4#implementing-your-own-recommender-systems-in-python-using-stochastic-gradient-descent) you learned how to solve this problem using Stochastic Gradient Descent (SGD). Today you'll learn about another approach to finding the two matrices, called **Alternating Least Squares** (**ALS**). In this tutorial you will \n",
    "\n",
    "- gain some intuition about what ALS is,\n",
    "- derive the ALS algorithm,\n",
    "- train the model, and\n",
    "- make actual recommendations to users.\n",
    "\n",
    "## What is Alternating Least Squares (ALS)?\n",
    "Before strictly defining ALS, let's first think about the overall goal. The goal is to complete the rating matrix, i.e to accurately predict every user's rating for the movies they haven't watched yet. By predicting ratings accurately, you can suggest the most suitable movies to watch next to each user individually. Doing so will [keep the customers satisfied](https://www.youtube.com/watch?v=3YNsZLtzF18)!\n",
    "\n",
    "The rating matrix is your central data structure. When following the $UV$-decomposition approach, every rating can be considered a weighted linear combination of latent user and movie factors as shown in the figure below.\n",
    "\n",
    "<img class=\"aligncenter size-thumbnail img-responsive\" src=\"https://s32.postimg.org/4q9bmkfpx/matrix_mult.png\" style=\"max-width:100%; width: 50%\" alt=\"Matrix Multiplication\"/>\n",
    "\n",
    "Now recall how matrix multiplication works: To yield rating $r_{11}$ in the figure above, you have to take the dot product of the first row vector of $P^T$ and the first column vector of $Q$. You can interpret this operation as the sum of latent user features, weighted by the respective latent movie features. If you knew the latent movie features this would be a [simple linear regression](https://en.wikipedia.org/wiki/Simple_linear_regression) problem. Since you don't know any of the latent features you'll use the trick of alternating least squares. **You assume to know the unknown movie features by randomly initialising the movie feature matrix $Q$**. You then estimate the user feature matrix for every user (row by row). After that you use this estimate of the user feature matrix to estiamte the movie feature matrix for every movie (column by column). If you repeat this procedure for every non-empty cell in the rating matrix a few times, you should get a pretty good approximation of the whole rating matrix.\n",
    "\n",
    "## Getting Ready\n",
    "Before deriving the algorithm let's prepare the development environment. Like the last time, let's import the [Movielens](http://files.grouplens.org/datasets/movielens/ml-100k.zip) data set and pre-process it by splitting the data into a training and test data set."
   ]
  },
  {
   "cell_type": "code",
   "execution_count": 12,
   "metadata": {
    "collapsed": false
   },
   "outputs": [
    {
     "name": "stdout",
     "output_type": "stream",
     "text": [
      "Number of users = 943 | Number of movies = 1682\n"
     ]
    }
   ],
   "source": [
    "import numpy as np\n",
    "import pandas as pd\n",
    "header = ['user_id', 'item_id', 'rating', 'timestamp']\n",
    "df = pd.read_csv('./ml-100k/u.data', sep='\\t', names=header)\n",
    "n_users = df.user_id.unique().shape[0]\n",
    "n_items = df.item_id.unique().shape[0]\n",
    "print 'Number of users = ' + str(n_users) + ' | Number of movies = ' + str(n_items)"
   ]
  },
  {
   "cell_type": "code",
   "execution_count": 13,
   "metadata": {
    "collapsed": true
   },
   "outputs": [],
   "source": [
    "from sklearn import cross_validation as cv\n",
    "train_data, test_data = cv.train_test_split(df,test_size=0.25)\n",
    "\n",
    "train_data = pd.DataFrame(train_data)\n",
    "test_data = pd.DataFrame(test_data)\n",
    "\n",
    "# Create training and test matrix\n",
    "R = np.zeros((n_users, n_items))\n",
    "for line in train_data.itertuples():\n",
    "    R[line[1]-1, line[2]-1] = line[3]  \n",
    "\n",
    "T = np.zeros((n_users, n_items))\n",
    "for line in test_data.itertuples():\n",
    "    T[line[1]-1, line[2]-1] = line[3]"
   ]
  },
  {
   "cell_type": "markdown",
   "metadata": {},
   "source": [
    "Next, let's define a \"selector\" matrix $I$ for your training data matrix $R$, which will contain $0$ if the rating matrix has no rating entry, and $1$ if the rating matrix contains an entry. This will come in handy later, when you want to select the appropriate rows and columns for estimating the parameters. Let's do the same for the test data matrix $T$ and call the selector matrix $I_2$."
   ]
  },
  {
   "cell_type": "code",
   "execution_count": 14,
   "metadata": {
    "collapsed": true
   },
   "outputs": [],
   "source": [
    "# Index matrix for training data\n",
    "I = R.copy()\n",
    "I[I > 0] = 1\n",
    "I[I == 0] = 0\n",
    "\n",
    "# Index matrix for test data\n",
    "I2 = T.copy()\n",
    "I2[I2 > 0] = 1\n",
    "I2[I2 == 0] = 0"
   ]
  },
  {
   "cell_type": "markdown",
   "metadata": {},
   "source": [
    "To evaluate the performance of the model, you'll again use the root mean squared error (RMSE). Using the mean error rather than the sum of squared errors (SSD) has the benefit of making training and test error comparable due to normalisation. Since you only want to evaluate the performance based on observed ratings, select the appropriate rows and columns with the previously defined \"selector\" matrix $I$ and normalise the error by the number of ratings $R[R > 0]$."
   ]
  },
  {
   "cell_type": "code",
   "execution_count": 15,
   "metadata": {
    "collapsed": true
   },
   "outputs": [],
   "source": [
    "# Calculate the RMSE\n",
    "def rmse(I,R,Q,P):\n",
    "    return np.sqrt(np.sum((I * (R - np.dot(P.T,Q)))**2)/len(R[R > 0]))"
   ]
  },
  {
   "cell_type": "markdown",
   "metadata": {},
   "source": [
    "## Deriving the ALS Algorithm\n",
    "Building upon the intuition from the beginning of the tutorial, let's define the model more thoroughly. Remember that you are trying to estimate two unknown matrices which, when multiplied together, yield the rating matrix. The loss function you will use is the well-known sum of squared errors. The second term is for regularisation to prevent overfitting (don't worry about it too much):\n",
    "\n",
    "<img src=\"https://latex.codecogs.com/gif.latex?\\underset{Q*&space;,&space;P*}{min}\\sum_{(u,i)\\epsilon&space;K&space;}(r_{ui}-P_u^TQ_i)^2&plus;\\lambda(\\left&space;\\|&space;Q_i&space;\\right&space;\\|^2&space;&plus;&space;\\left&space;\\|&space;P_u&space;\\right&space;\\|^2)$&space;&space;$(1)\" title=\"\\underset{q* , p*}{min}\\sum_{(u,i)\\epsilon K }(r_{ui}-q_i^Tp_u)^2+\\lambda(\\left \\| q_i \\right \\|^2 + \\left \\| p_u \\right \\|^2)\" />\n",
    "\n",
    "\n",
    "Without the assumption of knowning one of the matrices $P$ or $Q$ up front, the problem is non-convex, i.e. it is not so easy to find a global optimum for your loss function. However, if you use the ALS trick to fix one of the matrices at each step, you can turn the non-convex optimisation problem into a quadratic (least squares) problem. Each step then boils down to solving an (overdetermined) system of linear equations. To find the actual update rules on how to calculate the rows of the matrices $P$ and $Q$ in each step, you have to find the global minimum of the loss function twice: once while considering $P$ to be a parameter and once while considering $Q$ to be a parameter. Luckliy you don't need to do the math, since [Zhou et al. (2008)](http://www.grappa.univ-lille3.fr/~mary/cours/stats/centrale/reco/paper/MatrixFactorizationALS.pdf) already did it in their paper \"*Large-scale Parallel Collaborative Filtering for the Netflix Prize*\" (with a slightly different regularization term). Differentiating the loss function w.r.t each parameter, equating to zero and solving for the respective paramter yields the following update equations:\n",
    "\n",
    "<img src=\"https://latex.codecogs.com/gif.latex?\\mathbf{p}_{i}&space;=&space;A^{-1}_{i}&space;V_{i}&space;\\&space;with\\&space;A_{i}&space;=&space;Q_{I_i}&space;Q_{I_i}^{T}&space;&plus;&space;\\lambda&space;n_{p_i}&space;E&space;\\&space;and\\&space;V_{i}&space;=&space;Q_{I_i}&space;R^{T}(i,I_{i})&space;\\&space;(2)\" title=\"\\mathbf{p}_{i} = A^{-1}_{i} V_{i} \\ with\\ A_{i} = Q_{I_i} Q_{I_i}^{T} + \\lambda n_{p_i} E \\ and\\ V_{i} = Q_{I_i} R^{T}(i,I_{i}) \\ (2)\" />\n",
    "\n",
    "<img src=\"https://latex.codecogs.com/gif.latex?\\mathbf{q}_{j}&space;=&space;A^{-1}_{j}&space;V_{j}&space;\\&space;with\\&space;A_{j}&space;=&space;P_{I_j}&space;P_{I_j}^{T}&space;&plus;&space;\\lambda&space;n_{q_j}&space;E&space;\\&space;and\\&space;V_{j}&space;=&space;P_{I_j}&space;R^{T}(I_{j},j)&space;\\&space;(3)\" title=\"\\mathbf{q}_{j} = A^{-1}_{j} V_{j} \\ with\\ A_{j} = P_{I_j} P_{I_j}^{T} + \\lambda n_{q_j} E \\ and\\ V_{j} = P_{I_j} R^{T}(I_{j},j) \\ (3)\" />\n",
    "\n",
    "where $k$ is the number of latent features, $E$ is the (*k x k*)-dimensional identity matrix, $Q_{I_{i}}$ and $P_{I_{j}}$ are the sub-matrices of $Q$ and $P$ with the appropriate columns selected. $R^{T}(i,I_i)$ and $R^{T}(I_j,j)$ are row vectors with the appropriate rows and columns of $R$ selected. Finally $n_{p_{i}}$ denotes the number of items user $i$ has rated and $n_{q_{j}}$ denotes the number of users that rated item $j$. Using this result, the final algorithm is defined as follows:\n",
    "\n",
    "- Initialise matrix $P$ with average ratings for each movie in row ``1`` and random numbers otherwise\n",
    "- Repeat until convergence:\n",
    "    - Fix $Q$ and solve for $P$ according to equation ``(2)``\n",
    "    - Fix $P$ and solve for $Q$ according to equation ``(3)``\n",
    "    \n",
    "If you are eager to follow the derivation look up section 3.1. of [Zhou et al. (2008)](http://www.grappa.univ-lille3.fr/~mary/cours/stats/centrale/reco/paper/MatrixFactorizationALS.pdf). **The main take-away message is that after training, $p_i$ will contain the latent representation of the user $i$. Similarly $q_j$ will contain the latent representation of the movie $j$**. The approximation of the rating matrix is then calculated by organising the user and movie vectors in their respective matrices and multiplying those as shown in the first figure and equation ``(4)``.\n",
    "\n",
    "## Implementing the ALS Algorithm\n",
    "Let's start by defining the hyperparameters $\\lambda$ (regularisation weight) and $k$ (dimensionality of the latent feature space) and initialising the latent factor matrices $P$ and $Q$ as well as the identity matrix $E$."
   ]
  },
  {
   "cell_type": "code",
   "execution_count": 16,
   "metadata": {
    "collapsed": true
   },
   "outputs": [],
   "source": [
    "lmbda = 0.1 # Regularisation weight\n",
    "k = 20 # Dimensionality of latent feature space\n",
    "m, n = R.shape # Number of users and items\n",
    "n_epochs = 15 # Number of epochs\n",
    "\n",
    "P = 3 * np.random.rand(k,m) # Latent user feature matrix\n",
    "Q = 3 * np.random.rand(k,n) # Latent movie feature matrix\n",
    "Q[0,:] = R[R != 0].mean(axis=0) # Avg. rating for each movie\n",
    "E = np.eye(k) # (k x k)-dimensional idendity matrix"
   ]
  },
  {
   "cell_type": "markdown",
   "metadata": {},
   "source": [
    "The algorithm is implemented with one inner ``for``-loop for each parameter update step and an outer ``for``-loop to repeat this process until convergence. For simplicity, a fixed number of iterations (epochs) is defined and convergence is analysed later by plotting the learning curves on the training and test data set. Then it's only a matter of getting your update equations right and storing the training and test error for later analysis. Make sure you check for zero counts when setting $n_{p_{i}}$ and $n_{q_{j}}$. Zero counts would break the algorithm (by causing the matrices $A_{i}$ and $A_{j}$ to be singular, hence making the linear system unsolvable this way). Now grab a new cup of coffee, this might take a couple of minutes.\n"
   ]
  },
  {
   "cell_type": "code",
   "execution_count": 17,
   "metadata": {
    "collapsed": false
   },
   "outputs": [
    {
     "name": "stdout",
     "output_type": "stream",
     "text": [
      "[Epoch 1/15] train error: 1.146596, test error: 1.263945\n",
      "[Epoch 2/15] train error: 0.863909, test error: 1.049361\n",
      "[Epoch 3/15] train error: 0.781007, test error: 1.008485\n",
      "[Epoch 4/15] train error: 0.741641, test error: 0.986250\n",
      "[Epoch 5/15] train error: 0.718968, test error: 0.972444\n",
      "[Epoch 6/15] train error: 0.704374, test error: 0.963087\n",
      "[Epoch 7/15] train error: 0.694283, test error: 0.956394\n",
      "[Epoch 8/15] train error: 0.686973, test error: 0.951439\n",
      "[Epoch 9/15] train error: 0.681503, test error: 0.947678\n",
      "[Epoch 10/15] train error: 0.677301, test error: 0.944766\n",
      "[Epoch 11/15] train error: 0.674000, test error: 0.942478\n",
      "[Epoch 12/15] train error: 0.671353, test error: 0.940655\n",
      "[Epoch 13/15] train error: 0.669197, test error: 0.939189\n",
      "[Epoch 14/15] train error: 0.667418, test error: 0.937998\n",
      "[Epoch 15/15] train error: 0.665936, test error: 0.937024\n"
     ]
    }
   ],
   "source": [
    "train_errors = []\n",
    "test_errors = []\n",
    "\n",
    "# Repeat until convergence\n",
    "for epoch in range(n_epochs):\n",
    "    # Fix Q and estimate P\n",
    "    for i, Ii in enumerate(I):\n",
    "        nui = np.count_nonzero(Ii) # Number of items user i has rated\n",
    "        if (nui == 0): nui = 1 # Be aware of zero counts!\n",
    "    \n",
    "        # Least squares solution\n",
    "        Ai = np.dot(Q, np.dot(np.diag(Ii), Q.T)) + lmbda * nui * E\n",
    "        Vi = np.dot(Q, np.dot(np.diag(Ii), R[i].T))\n",
    "        P[:,i] = np.linalg.solve(Ai,Vi)\n",
    "        \n",
    "    # Fix P and estimate Q\n",
    "    for j, Ij in enumerate(I.T):\n",
    "        nmj = np.count_nonzero(Ij) # Number of users that rated item j\n",
    "        if (nmj == 0): nmj = 1 # Be aware of zero counts!\n",
    "        \n",
    "        # Least squares solution\n",
    "        Aj = np.dot(P, np.dot(np.diag(Ij), P.T)) + lmbda * nmj * E\n",
    "        Vj = np.dot(P, np.dot(np.diag(Ij), R[:,j]))\n",
    "        Q[:,j] = np.linalg.solve(Aj,Vj)\n",
    "    \n",
    "    train_rmse = rmse(I,R,Q,P)\n",
    "    test_rmse = rmse(I2,T,Q,P)\n",
    "    train_errors.append(train_rmse)\n",
    "    test_errors.append(test_rmse)\n",
    "    \n",
    "    print \"[Epoch %d/%d] train error: %f, test error: %f\" \\\n",
    "    %(epoch+1, n_epochs, train_rmse, test_rmse)\n",
    "    \n",
    "print \"Algorithm converged\""
   ]
  },
  {
   "cell_type": "markdown",
   "metadata": {},
   "source": [
    "After alternatingly training the parameters for ``15`` epochs, you can plot the learning curves to analyse the performance."
   ]
  },
  {
   "cell_type": "code",
   "execution_count": 18,
   "metadata": {
    "collapsed": false
   },
   "outputs": [
    {
     "data": {
      "image/png": "[encoded data removed]",
      "text/plain": [
       "<matplotlib.figure.Figure at 0x10df58ad0>"
      ]
     },
     "metadata": {},
     "output_type": "display_data"
    }
   ],
   "source": [
    "# Check performance by plotting train and test errors\n",
    "import matplotlib.pyplot as plt\n",
    "%matplotlib inline\n",
    "\n",
    "plt.plot(range(n_epochs), train_errors, marker='o', label='Training Data');\n",
    "plt.plot(range(n_epochs), test_errors, marker='v', label='Test Data');\n",
    "plt.title('ALS-WR Learning Curve')\n",
    "plt.xlabel('Number of Epochs');\n",
    "plt.ylabel('RMSE');\n",
    "plt.legend()\n",
    "plt.grid()\n",
    "plt.show()"
   ]
  },
  {
   "cell_type": "markdown",
   "metadata": {},
   "source": [
    "As you can see, both training and test error monotonically decrease and converge over time. This means you don't seem to overfit (in which case the training error would still decrease, while the test error would increase).\n",
    "\n",
    "The model seems to perform quite well, with a relatively low RMSE after convergence. The performance can be influenced by tweaking the hyperparameters $\\lambda$ and $k$. In this case a manual grid search over $\\lambda$ led to the regularisation weight of ``0.1``, whilst a $k$ of ``20`` was just an initial choice. Zhou et al. found a weight of ``0.065`` and $k$ of ``20`` to yield the best performance on their data set. In the end it comes down to your task at hand, so just play around with these parameters and make sure you analyse your learning curves thoroughly.\n",
    "\n",
    "## Making Recommendations\n",
    "\n",
    "So far you have framed the recommendation problem in terms of a simple $UV$-decomposition, derived the algorithm and trained your model. Now, to see the model in action let's recommend five movies to the user ``17`` (arbitrary choice) based on the learned latent features. In order to do this you first calculate the prediction matrix <img src=\"https://latex.codecogs.com/gif.latex?\\hat{\\mathbf{r}}_{ui}=\\mathbf{p}_u^T\\mathbf{q}_{i}&space;\\&space;(4)\" title=\"\\hat{\\mathbf{r}}_{ui}=\\mathbf{p}_u^T\\mathbf{q}_{i} \\ (4)\" /> and convert it to a dataframe for ease of use."
   ]
  },
  {
   "cell_type": "code",
   "execution_count": 19,
   "metadata": {
    "collapsed": true
   },
   "outputs": [],
   "source": [
    "# Calculate prediction matrix R_hat (low-rank approximation for R)\n",
    "R_hat = pd.DataFrame(np.dot(P.T,Q))\n",
    "R = pd.DataFrame(R)"
   ]
  },
  {
   "cell_type": "markdown",
   "metadata": {},
   "source": [
    "To get an idea of what you've achieved, let's compare some of your predictions for user ``17`` with the actual ratings."
   ]
  },
  {
   "cell_type": "code",
   "execution_count": 20,
   "metadata": {
    "collapsed": false
   },
   "outputs": [
    {
     "data": {
      "text/html": [
       "<div>\n",
       "<table border=\"1\" class=\"dataframe\">\n",
       "  <thead>\n",
       "    <tr style=\"text-align: right;\">\n",
       "      <th></th>\n",
       "      <th>Actual Rating</th>\n",
       "      <th>Predicted Rating</th>\n",
       "    </tr>\n",
       "  </thead>\n",
       "  <tbody>\n",
       "    <tr>\n",
       "      <th>0</th>\n",
       "      <td>4</td>\n",
       "      <td>3.262819</td>\n",
       "    </tr>\n",
       "    <tr>\n",
       "      <th>6</th>\n",
       "      <td>4</td>\n",
       "      <td>3.632967</td>\n",
       "    </tr>\n",
       "    <tr>\n",
       "      <th>8</th>\n",
       "      <td>3</td>\n",
       "      <td>3.357371</td>\n",
       "    </tr>\n",
       "    <tr>\n",
       "      <th>12</th>\n",
       "      <td>3</td>\n",
       "      <td>3.096711</td>\n",
       "    </tr>\n",
       "    <tr>\n",
       "      <th>99</th>\n",
       "      <td>4</td>\n",
       "      <td>3.614416</td>\n",
       "    </tr>\n",
       "  </tbody>\n",
       "</table>\n",
       "</div>"
      ],
      "text/plain": [
       "    Actual Rating  Predicted Rating\n",
       "0               4          3.262819\n",
       "6               4          3.632967\n",
       "8               3          3.357371\n",
       "12              3          3.096711\n",
       "99              4          3.614416"
      ]
     },
     "execution_count": 20,
     "metadata": {},
     "output_type": "execute_result"
    }
   ],
   "source": [
    "# Compare true ratings of user 17 with predictions\n",
    "ratings = pd.DataFrame(data=R.loc[16,R.loc[16,:] > 0]).head(n=5)\n",
    "ratings['Prediction'] = R_hat.loc[16,R.loc[16,:] > 0]\n",
    "ratings.columns = ['Actual Rating', 'Predicted Rating']\n",
    "\n",
    "ratings"
   ]
  },
  {
   "cell_type": "markdown",
   "metadata": {},
   "source": [
    "As you can see, the model seems to have picked up the general trend of the user's ratings. To now give the top ``5`` recommendations to user ``17``, you simply want to find the five highest predicted movies that the user hasn't rated yet. To do that, use the original rating matrix as a logical index to pick out the appropriate predicted ratings, sort them in descending order and print out the top five recommendations."
   ]
  },
  {
   "cell_type": "code",
   "execution_count": 21,
   "metadata": {
    "collapsed": false
   },
   "outputs": [
    {
     "data": {
      "text/html": [
       "<div>\n",
       "<table border=\"1\" class=\"dataframe\">\n",
       "  <thead>\n",
       "    <tr style=\"text-align: right;\">\n",
       "      <th></th>\n",
       "      <th>Predicted Rating</th>\n",
       "    </tr>\n",
       "  </thead>\n",
       "  <tbody>\n",
       "    <tr>\n",
       "      <th>407</th>\n",
       "      <td>4.322413</td>\n",
       "    </tr>\n",
       "    <tr>\n",
       "      <th>118</th>\n",
       "      <td>4.231591</td>\n",
       "    </tr>\n",
       "    <tr>\n",
       "      <th>49</th>\n",
       "      <td>4.155992</td>\n",
       "    </tr>\n",
       "    <tr>\n",
       "      <th>168</th>\n",
       "      <td>4.109113</td>\n",
       "    </tr>\n",
       "    <tr>\n",
       "      <th>126</th>\n",
       "      <td>4.075898</td>\n",
       "    </tr>\n",
       "  </tbody>\n",
       "</table>\n",
       "</div>"
      ],
      "text/plain": [
       "     Predicted Rating\n",
       "407          4.322413\n",
       "118          4.231591\n",
       "49           4.155992\n",
       "168          4.109113\n",
       "126          4.075898"
      ]
     },
     "execution_count": 21,
     "metadata": {},
     "output_type": "execute_result"
    }
   ],
   "source": [
    "predictions = R_hat.loc[16,R.loc[16,:] == 0] # Predictions for movies that the user 17 hasn't rated yet\n",
    "top5 = predictions.sort_values(ascending=False).head(n=5)\n",
    "recommendations = pd.DataFrame(data=top5)\n",
    "recommendations.columns = ['Predicted Rating']\n",
    "\n",
    "recommendations"
   ]
  },
  {
   "cell_type": "markdown",
   "metadata": {},
   "source": [
    "There you go! Now fetch some meta data about the movies *407*, *118*, *49*, *168* and *126* from the database and display your recommendations to the user.\n",
    "\n",
    "## Summary\n",
    "After solving the matrix factorisation problem with SGD [last time](http://online.cambridgecoding.com/notebooks/mhaller/implementing-your-own-recommender-systems-in-python-using-stochastic-gradient-descent-4#implementing-your-own-recommender-systems-in-python-using-stochastic-gradient-descent), you've now learned another method to approximate the rating matrix called **Alternating Least Squares** (**ALS**). As you have seen, the ALS trick of alternatingly fixing half of the parameters lets you treat the problem as a simple linear regression problem. After estimating the user and movie matrix, you calculated your approximate rating matrix (prediction matrix) to pull out the top 5 recommendations for a specific user.\n",
    "\n",
    "Congratulations, you've mastered one of the fundamental ways of making recommendations. Stay tuned for future tutorials on how to employ more elaborate methods (e.g. hybrid recommender systems) to improve the performance of your models.\n",
    "\n",
    "## References\n",
    "- [Zhou et al. (2008)](http://www.grappa.univ-lille3.fr/~mary/cours/stats/centrale/reco/paper/MatrixFactorizationALS.pdf) Zhou, Y., Wilkinson, D., Schreiber, R. and Pan, R., 2008. Large-scale parallel collaborative filtering for the netflix prize. In Algorithmic Aspects in Information and Management (pp. 337-348). Springer Berlin Heidelberg.\n",
    "\n",
    "\n",
    "<hr>\n",
    "<strong>ABOUT THE AUTHORS</strong>\n",
    "\n",
    "<img class=\"aligncenter size-thumbnail img-responsive\" src=\"https://s31.postimg.org/km9i0wrp7/IMG_5951.jpg\" alt=\"Moritz Haller\"/>\n",
    "\n",
    "Moritz has spent the past years in industry, working on business intelligence applications with the company he co-founded. He holds a BSc in Computer Science and is currently pursuing an MSc in Computer Science at University College London. His main interests lie in probabilistic modelling and machine learning.\n",
    "\n",
    "<img class=\"aligncenter size-thumbnail img-responsive\" src=\"http://s31.postimg.org/lchvjpirf/Agnes_profile.png\" alt=\"Agnes Johannsdottir\"/>\n",
    "\n",
    "Agnes is a master student in Business Analytics at University College London. She studied Management Engineering in Iceland and worked for 2 years as an IT consultant in supply chain. Her main interests lie in using data science methods (especially machine learning) to apply in Retail and Supply Chain businesses."
   ]
  }
 ],
 "metadata": {
  "kernelspec": {
   "display_name": "Python 2",
   "language": "python",
   "name": "python2"
  },
  "language_info": {
   "codemirror_mode": {
    "name": "ipython",
    "version": 2
   },
   "file_extension": ".py",
   "mimetype": "text/x-python",
   "name": "python",
   "nbconvert_exporter": "python",
   "pygments_lexer": "ipython2",
   "version": "2.7.10"
  }
 },
 "nbformat": 4,
 "nbformat_minor": 0
}
